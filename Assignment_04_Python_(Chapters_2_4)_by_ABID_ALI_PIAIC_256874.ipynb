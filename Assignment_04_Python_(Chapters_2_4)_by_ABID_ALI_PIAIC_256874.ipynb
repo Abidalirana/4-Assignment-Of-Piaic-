{
  "nbformat": 4,
  "nbformat_minor": 0,
  "metadata": {
    "colab": {
      "provenance": []
    },
    "kernelspec": {
      "name": "python3",
      "display_name": "Python 3"
    },
    "language_info": {
      "name": "python"
    }
  },
  "cells": [
    {
      "cell_type": "markdown",
      "source": [
        "# Assignment 04: Python Crash Course Practice (Chapters 2 - 4)\n"
      ],
      "metadata": {
        "id": "oPd9bdoMS8-A"
      }
    },
    {
      "cell_type": "markdown",
      "source": [
        "Assignment 04: Python Crash Course Practice (Chapters 2 - 4) by ABID ALI"
      ],
      "metadata": {
        "id": "DETkArg8TICn"
      }
    },
    {
      "cell_type": "markdown",
      "source": [
        "# Part 1: Variables & Input"
      ],
      "metadata": {
        "id": "Ws9dMgvTTjAD"
      }
    },
    {
      "cell_type": "markdown",
      "source": [
        "# ✅ Q1. Favorite Movie Intro\n",
        "Ask the user for:\n",
        "\n",
        "Their name\n",
        "\n",
        "Their favorite movie\n",
        "\n",
        "Print a sentence like: Ali’s favorite movie is Interstellar."
      ],
      "metadata": {
        "id": "JcGnsZIjTl4P"
      }
    },
    {
      "cell_type": "code",
      "source": [
        "name = input(\"What is your name? \")                 # Ask  user for name\n",
        "movie = input(\"What is your favorite movie? \")      # Ask user for their favorite movie\n",
        "print(f\"{name}'s favorite movie is {movie}.\")       # Print the sentence\n"
      ],
      "metadata": {
        "colab": {
          "base_uri": "https://localhost:8080/"
        },
        "id": "WvhSNKq0UH4I",
        "outputId": "33bafa36-b9ae-43d9-b5a7-fc176acd6874"
      },
      "execution_count": null,
      "outputs": [
        {
          "output_type": "stream",
          "name": "stdout",
          "text": [
            "What is your name? ABID ALI\n",
            "What is your favorite movie? Ganji\n",
            "ABID ALI's favorite movie is Ganji.\n"
          ]
        }
      ]
    },
    {
      "cell_type": "markdown",
      "source": [
        "# Q2. Case Converter\n",
        "Ask the user to enter a word.\n",
        "\n",
        "Print:\n",
        "\n",
        "The word in uppercase\n",
        "\n",
        "The word in lowercase\n",
        "\n",
        "The word in title case\n"
      ],
      "metadata": {
        "id": "8rAGaMMpUucF"
      }
    },
    {
      "cell_type": "code",
      "source": [
        "word = input(\"Enter a word: \")                     # Ask the user to enter a word\n",
        "print(\"Uppercase:\", word.upper())                   # Print the word in different cases    #print statement with different arguments.\n",
        "print(\"Lowercase:\", word.lower())\n",
        "print(\"Title Case:\", word.title())\n"
      ],
      "metadata": {
        "colab": {
          "base_uri": "https://localhost:8080/"
        },
        "id": "4vbHIejqU6Ld",
        "outputId": "56a56811-e70a-4a4a-995e-55950fa5d034"
      },
      "execution_count": null,
      "outputs": [
        {
          "output_type": "stream",
          "name": "stdout",
          "text": [
            "Enter a word: abid ali\n",
            "Uppercase: ABID ALI\n",
            "Lowercase: abid ali\n",
            "Title Case: Abid Ali\n"
          ]
        }
      ]
    },
    {
      "cell_type": "markdown",
      "source": [
        "# ✅ Q3. Simple Math with Input\n",
        "Ask the user to input two numbers using input()\n",
        "\n",
        "Convert them to int or float\n",
        "\n",
        "Print:\n",
        "\n",
        "Sum\n",
        "\n",
        "Difference\n",
        "\n",
        "Product\n",
        "\n",
        "Quotient"
      ],
      "metadata": {
        "id": "lGc6zD7FV2qw"
      }
    },
    {
      "cell_type": "markdown",
      "source": [],
      "metadata": {
        "id": "6SDdqGHUXY7u"
      }
    },
    {
      "cell_type": "code",
      "source": [
        "num1 = float(input(\"Enter first number: \"))         # Ask the user to input two numbers\n",
        "num2 = float(input(\"Enter second number: \"))\n",
        "print(\"Sum:\", num1 + num2)                         # Calculate and print results\n",
        "print(\"Difference:\", num1 - num2)\n",
        "print(\"Product:\", num1 * num2)\n",
        "print(\"Quotient:\", num1 / num2)\n"
      ],
      "metadata": {
        "colab": {
          "base_uri": "https://localhost:8080/"
        },
        "id": "zuKwRH8SWo3x",
        "outputId": "bd5c2665-0c5e-4d40-9aaa-269960f0a3d5"
      },
      "execution_count": null,
      "outputs": [
        {
          "output_type": "stream",
          "name": "stdout",
          "text": [
            "Enter first number: 5\n",
            "Enter second number: 2\n",
            "Sum: 7.0\n",
            "Difference: 3.0\n",
            "Product: 10.0\n",
            "Quotient: 2.5\n"
          ]
        }
      ]
    },
    {
      "cell_type": "markdown",
      "source": [],
      "metadata": {
        "id": "sAsgEeqaX0I1"
      }
    },
    {
      "cell_type": "markdown",
      "source": [
        "# Part 2: Lists & Indexing"
      ],
      "metadata": {
        "id": "xReonBd5XT_K"
      }
    },
    {
      "cell_type": "markdown",
      "source": [
        "# Q4. My Friends List\n",
        "Create a list of 4 friends’ names.\n",
        "Print each name using a for loop."
      ],
      "metadata": {
        "id": "6i8ZkaRxXjiK"
      }
    },
    {
      "cell_type": "code",
      "source": [
        "friends = [\"Abid\", \"Taha\", \"Kashaf\", \"Aswad\"]         # Create a list of 4 friends' names\n",
        "for friend in friends:                                # Print each name using a for loop\n",
        "    print(friend)\n"
      ],
      "metadata": {
        "colab": {
          "base_uri": "https://localhost:8080/"
        },
        "id": "MMI9J072XnX_",
        "outputId": "7800ba44-9176-430e-bb43-0eb4369fa24d"
      },
      "execution_count": null,
      "outputs": [
        {
          "output_type": "stream",
          "name": "stdout",
          "text": [
            "Abid\n",
            "Taha\n",
            "Kashaf\n",
            "Aswad\n"
          ]
        }
      ]
    },
    {
      "cell_type": "markdown",
      "source": [
        "# ✅ Q5. Update Your List\n",
        "Create a list of 3 favorite fruits.\n",
        "\n",
        "Replace the second fruit with another.\n",
        "\n",
        "Add one fruit to the end using .append().\n",
        "\n",
        "Add one to the beginning using .insert(0, ...).\n",
        "\n",
        "Print the list after each change."
      ],
      "metadata": {
        "id": "x4sQBSfkY76k"
      }
    },
    {
      "cell_type": "code",
      "source": [
        "fruits = [\"Mango\", \"Banana\", \"Apple\"]                        # Step 1: Create a list of 3 favorite fruits\n",
        "print(\"Original list:\", fruits)                              # Step 2: Replace the second fruit (index 1)  #print function with arguments\n",
        "fruits[1] = \"Orange\"\n",
        "print(\"After replacing second fruit:\", fruits)\n",
        "fruits.append(\"Grapes\")                                      # Step 3: Add one fruit to the end\n",
        "print(\"After appending a fruit at the end:\", fruits)\n",
        "fruits.insert(0, \"Strawberry\")                               # Step 4: Add one fruit to the beginning\n",
        "print(\"After inserting a fruit at the beginning:\", fruits)\n"
      ],
      "metadata": {
        "colab": {
          "base_uri": "https://localhost:8080/"
        },
        "id": "ASl-ZPIEZAbT",
        "outputId": "f8e3b7b3-ff19-4dae-fafa-cc230b4ca325"
      },
      "execution_count": null,
      "outputs": [
        {
          "output_type": "stream",
          "name": "stdout",
          "text": [
            "Original list: ['Mango', 'Banana', 'Apple']\n",
            "After replacing second fruit: ['Mango', 'Orange', 'Apple']\n",
            "After appending a fruit at the end: ['Mango', 'Orange', 'Apple', 'Grapes']\n",
            "After inserting a fruit at the beginning: ['Strawberry', 'Mango', 'Orange', 'Apple', 'Grapes']\n"
          ]
        }
      ]
    },
    {
      "cell_type": "markdown",
      "source": [
        "# ✅ Q6. List Length Reporter\n",
        "Ask the user to enter 5 favorite animals (use input()).\n",
        "\n",
        "Store each animal in a list.\n",
        "\n",
        "After collecting:\n",
        "\n",
        "Print the total number of animals using len()\n",
        "\n",
        "Print the first and last animal using indexing"
      ],
      "metadata": {
        "id": "tqogmXpBaZof"
      }
    },
    {
      "cell_type": "code",
      "source": [
        "# Ask the user to enter 5 favorite animals\n",
        "animals = []\n",
        "# Collect the animals using a loop\n",
        "for i in range(5):\n",
        "    animal = input(f\"Enter your favorite animal #{i+1}: \")\n",
        "    animals.append(animal)\n",
        "\n",
        "# Print the total number of animals using len()\n",
        "print(\"Total number of animals:\", len(animals))\n",
        "\n",
        "# Print the first and last animal using indexing\n",
        "print(\"First animal:\", animals[0])                                                          #print function with arguments\n",
        "print(\"Last animal:\", animals[-1])\n"
      ],
      "metadata": {
        "colab": {
          "base_uri": "https://localhost:8080/"
        },
        "id": "PkWUZpVhadgf",
        "outputId": "4f583462-0717-4d5a-acfc-f48a412f72b3"
      },
      "execution_count": null,
      "outputs": [
        {
          "output_type": "stream",
          "name": "stdout",
          "text": [
            "Enter your favorite animal #1: horse\n",
            "Enter your favorite animal #2: cow\n",
            "Enter your favorite animal #3: bufalow\n",
            "Enter your favorite animal #4: goat\n",
            "Enter your favorite animal #5: donkey\n",
            "Total number of animals: 5\n",
            "First animal: horse\n",
            "Last animal: donkey\n"
          ]
        }
      ]
    },
    {
      "cell_type": "markdown",
      "source": [
        "# 🔁 Part 3: For Loops & Ranges\n",
        "\n",
        "# ✅ Q7. Print Numbers\n",
        "Use range() and for loop to:\n",
        "\n",
        "\n",
        "Print numbers from 1 to 10\n",
        "\n",
        "Print even numbers from 2 to 20\n",
        "\n",
        "Print multiples of 5 from 5 to 5"
      ],
      "metadata": {
        "id": "rSJ4G1-7dE0A"
      }
    },
    {
      "cell_type": "code",
      "source": [
        "# Print numbers from 1 to 10\n",
        "print(\"Numbers from 1 to 10:\")\n",
        "for num in range(1, 11):\n",
        "    print(num)\n",
        "\n",
        "# Print even numbers from 2 to 20\n",
        "print(\"\\nEven numbers from 2 to 20:\")\n",
        "for num in range(2, 21, 2):  # Start at 2, stop before 21, step 2 (even numbers)\n",
        "    print(num)\n",
        "\n",
        "# Print multiples of 5 from 5 to 50\n",
        "print(\"\\nMultiples of 5 from 5 to 50:\")\n",
        "for num in range(5, 51, 5):  # Start at 5, stop before 51, step 5 (multiples of 5)\n",
        "    print(num)\n"
      ],
      "metadata": {
        "colab": {
          "base_uri": "https://localhost:8080/"
        },
        "id": "1TVKWgKgdPyA",
        "outputId": "55bac887-cc2f-43e6-d7c4-db705f6e553e"
      },
      "execution_count": null,
      "outputs": [
        {
          "output_type": "stream",
          "name": "stdout",
          "text": [
            "Numbers from 1 to 10:\n",
            "1\n",
            "2\n",
            "3\n",
            "4\n",
            "5\n",
            "6\n",
            "7\n",
            "8\n",
            "9\n",
            "10\n",
            "\n",
            "Even numbers from 2 to 20:\n",
            "2\n",
            "4\n",
            "6\n",
            "8\n",
            "10\n",
            "12\n",
            "14\n",
            "16\n",
            "18\n",
            "20\n",
            "\n",
            "Multiples of 5 from 5 to 50:\n",
            "5\n",
            "10\n",
            "15\n",
            "20\n",
            "25\n",
            "30\n",
            "35\n",
            "40\n",
            "45\n",
            "50\n"
          ]
        }
      ]
    },
    {
      "cell_type": "markdown",
      "source": [
        "# ✅ Q8. Squares Table"
      ],
      "metadata": {
        "id": "VMcsXCTXeRrr"
      }
    },
    {
      "cell_type": "markdown",
      "source": [
        "# Use a for loop to print square numbers from 1 to 10:\n",
        "\n",
        "1 squared is 1  \n",
        "2 squared is 4  \n",
        "3 squared is 9  \n",
        "...  \n",
        "10 squared is 100  "
      ],
      "metadata": {
        "id": "ZA0tCMecdkeL"
      }
    },
    {
      "cell_type": "code",
      "source": [
        "# Use a for loop to print square numbers from 1 to 10\n",
        "for num in range(1, 11):\n",
        "    print(f\"{num} squared is {num ** 2}\")\n"
      ],
      "metadata": {
        "colab": {
          "base_uri": "https://localhost:8080/"
        },
        "id": "Ccrgor-BdrCX",
        "outputId": "6b7785f8-de4a-48cf-ced7-cfd8b4e4fd9e"
      },
      "execution_count": null,
      "outputs": [
        {
          "output_type": "stream",
          "name": "stdout",
          "text": [
            "1 squared is 1\n",
            "2 squared is 4\n",
            "3 squared is 9\n",
            "4 squared is 16\n",
            "5 squared is 25\n",
            "6 squared is 36\n",
            "7 squared is 49\n",
            "8 squared is 64\n",
            "9 squared is 81\n",
            "10 squared is 100\n"
          ]
        }
      ]
    },
    {
      "cell_type": "markdown",
      "source": [
        "# 🧠 Part 4: List Comprehension & Slicing"
      ],
      "metadata": {
        "id": "94aAaLjWexEt"
      }
    },
    {
      "cell_type": "markdown",
      "source": [
        "# ✅ Q9. Make a List of Cubes\n",
        "Use list comprehension to generate cubes of numbers 1–5.\n",
        "\n",
        "Print the list.\n",
        "\n",
        "# Output:\n",
        "[1, 8, 27, 64, 125]"
      ],
      "metadata": {
        "id": "PlA2I28se092"
      }
    },
    {
      "cell_type": "code",
      "source": [
        "# Use list comprehension to generate cubes of numbers 1–5\n",
        "cubes = [num ** 3 for num in range(1, 6)]\n",
        "\n",
        "# Print the list of cubes\n",
        "print(cubes)\n"
      ],
      "metadata": {
        "colab": {
          "base_uri": "https://localhost:8080/"
        },
        "id": "6V1gGb6ie5x2",
        "outputId": "8f62cd5e-7e34-4019-94fa-d69bc7f818b4"
      },
      "execution_count": null,
      "outputs": [
        {
          "output_type": "stream",
          "name": "stdout",
          "text": [
            "[1, 8, 27, 64, 125]\n"
          ]
        }
      ]
    },
    {
      "cell_type": "markdown",
      "source": [
        "# ✅ Q10. Top 3 Movies\n",
        "# Ask the user to enter 5 movie names using input().\n",
        "\n",
        "Store them in a list.\n",
        "\n",
        "Print:\n",
        "\n",
        "The first 3 movies using slicing\n",
        "\n",
        "The last 2 movies using slicing"
      ],
      "metadata": {
        "id": "sfXWKqOZfLlZ"
      }
    },
    {
      "cell_type": "code",
      "source": [
        "# Ask the user to enter 5 movie names\n",
        "movies = []\n",
        "for i in range(5):\n",
        "    movie = input(f\"Enter movie name #{i+1}: \")\n",
        "    movies.append(movie)\n",
        "\n",
        "# Print the first 3 movies using slicing\n",
        "print(\"First 3 movies:\", movies[:3])\n",
        "\n",
        "# Print the last 2 movies using slicing\n",
        "print(\"Last 2 movies:\", movies[-2:])\n"
      ],
      "metadata": {
        "colab": {
          "base_uri": "https://localhost:8080/"
        },
        "id": "oV1N_c_4fOr-",
        "outputId": "f669d6e0-ecef-47b7-a0fb-0f073b77aae8"
      },
      "execution_count": null,
      "outputs": [
        {
          "output_type": "stream",
          "name": "stdout",
          "text": [
            "Enter movie name #1: dangal\n",
            "Enter movie name #2: krish\n",
            "Enter movie name #3: sula\n",
            "Enter movie name #4: race\n",
            "Enter movie name #5: don\n",
            "First 3 movies: ['dangal', 'krish', 'sula']\n",
            "Last 2 movies: ['race', 'don']\n"
          ]
        }
      ]
    },
    {
      "cell_type": "markdown",
      "source": [
        "# ✅ Q11. 🧑‍🏫 Top Students\n",
        "# Ask the user to enter names of 5 students using input() (one by one).\n",
        "\n",
        "Store the names in a list.\n",
        "\n",
        "Then:\n",
        "\n",
        "Print a greeting for each student using a for loop.\n",
        "\n",
        "Print only the top 3 students using slicing.\n",
        "\n",
        "Copy the list using [:], then:\n",
        "\n",
        "Add 2 new names to the copied list using .append()\n",
        "Print both the original and the new list to show that the original is unchanged."
      ],
      "metadata": {
        "id": "q_4LOL6KfnB-"
      }
    },
    {
      "cell_type": "code",
      "source": [
        "# Ask the user to enter names of 5 students\n",
        "students = []\n",
        "for i in range(5):\n",
        "    student = input(f\"Enter student name #{i+1}: \")\n",
        "    students.append(student)\n",
        "\n",
        "# Print a greeting for each student using a for loop\n",
        "print(\"\\nGreetings to all students:\")\n",
        "for student in students:\n",
        "    print(f\"Hello, {student}!\")\n",
        "\n",
        "# Print only the top 3 students using slicing\n",
        "print(\"\\nTop 3 students:\", students[:3])\n",
        "\n",
        "# Copy the list using [:] and add 2 new names to the copied list\n",
        "students_copy = students[:]\n",
        "students_copy.append(\"Alice\")\n",
        "students_copy.append(\"Bob\")\n",
        "\n",
        "# Print both the original and the new list to show that the original is unchanged\n",
        "print(\"\\nOriginal list of students:\", students)\n",
        "print(\"New list with added names:\", students_copy)\n"
      ],
      "metadata": {
        "colab": {
          "base_uri": "https://localhost:8080/"
        },
        "id": "4zApPkKNfwEZ",
        "outputId": "edb110b7-cbc6-4bb9-e8a4-bc235b3f9209"
      },
      "execution_count": null,
      "outputs": [
        {
          "output_type": "stream",
          "name": "stdout",
          "text": [
            "Enter student name #1: abid\n",
            "Enter student name #2: taha\n",
            "Enter student name #3: aswad\n",
            "Enter student name #4: ali\n",
            "Enter student name #5: muhammad\n",
            "\n",
            "Greetings to all students:\n",
            "Hello, abid!\n",
            "Hello, taha!\n",
            "Hello, aswad!\n",
            "Hello, ali!\n",
            "Hello, muhammad!\n",
            "\n",
            "Top 3 students: ['abid', 'taha', 'aswad']\n",
            "\n",
            "Original list of students: ['abid', 'taha', 'aswad', 'ali', 'muhammad']\n",
            "New list with added names: ['abid', 'taha', 'aswad', 'ali', 'muhammad', 'Alice', 'Bob']\n"
          ]
        }
      ]
    },
    {
      "cell_type": "markdown",
      "source": [
        "# ✅ Q12. ✈️ Travel Wishlist\n",
        "# Create a list of 5 places you want to visit.\n",
        "\n",
        "Print the original list.\n",
        "\n",
        "Print a temporarily sorted list using sorted().\n",
        "\n",
        "Sort the list in reverse alphabetical order using .sort(reverse=True).\n",
        "\n",
        "Use .reverse() twice:\n",
        "\n",
        "First to flip and print the list\n",
        "Then to flip it back and print again"
      ],
      "metadata": {
        "id": "oVvjt_OdgGWF"
      }
    },
    {
      "cell_type": "code",
      "source": [
        "# Create a list of 5 places you want to visit\n",
        "places = [\"Paris\", \"Tokyo\", \"New York\", \"Sydney\", \"Rome\"]\n",
        "\n",
        "# Print the original list\n",
        "print(\"Original list of places:\", places)\n",
        "\n",
        "# Print a temporarily sorted list using sorted()\n",
        "print(\"\\nTemporarily sorted list:\", sorted(places))\n",
        "\n",
        "# Sort the list in reverse alphabetical order using .sort(reverse=True)\n",
        "places.sort(reverse=True)\n",
        "print(\"\\nList sorted in reverse alphabetical order:\", places)\n",
        "\n",
        "# Use .reverse() twice:\n",
        "# First to flip and print the list\n",
        "places.reverse()\n",
        "print(\"\\nList after flipping once:\", places)\n",
        "\n",
        "# Then to flip it back and print again\n",
        "places.reverse()\n",
        "print(\"\\nList after flipping back:\", places)\n"
      ],
      "metadata": {
        "id": "1EPv4e5HgPSs",
        "colab": {
          "base_uri": "https://localhost:8080/"
        },
        "outputId": "a758f124-aea8-41f9-c791-cb2569dfcff8"
      },
      "execution_count": null,
      "outputs": [
        {
          "output_type": "stream",
          "name": "stdout",
          "text": [
            "Original list of places: ['Paris', 'Tokyo', 'New York', 'Sydney', 'Rome']\n",
            "\n",
            "Temporarily sorted list: ['New York', 'Paris', 'Rome', 'Sydney', 'Tokyo']\n",
            "\n",
            "List sorted in reverse alphabetical order: ['Tokyo', 'Sydney', 'Rome', 'Paris', 'New York']\n",
            "\n",
            "List after flipping once: ['New York', 'Paris', 'Rome', 'Sydney', 'Tokyo']\n",
            "\n",
            "List after flipping back: ['Tokyo', 'Sydney', 'Rome', 'Paris', 'New York']\n"
          ]
        }
      ]
    },
    {
      "cell_type": "markdown",
      "source": [
        "# 🎯 Mini Challenge: Name Art Generator\n",
        "\n",
        "# Combine your understanding of input, lists, string slicing, for loops, and list length.\n",
        "\n",
        "🧩 Task:\n",
        "Ask the user to enter their name.\n",
        "\n",
        "Convert the name to a list of characters.\n",
        "\n",
        "Print each character on a new line using a for loop.\n",
        "\n",
        "Then print:\n",
        "\n",
        "The first 3 letters\n",
        "The last 2 letters\n",
        "The total number of letters using len()"
      ],
      "metadata": {
        "id": "wv18J5byhLiZ"
      }
    },
    {
      "cell_type": "code",
      "source": [
        "# Ask the user to enter their name\n",
        "name = input(\"Enter your name: \")\n",
        "\n",
        "# Convert the name to a list of characters\n",
        "name_list = list(name)\n",
        "\n",
        "# Print each character on a new line using a for loop\n",
        "print(\"\\nCharacters of your name:\")\n",
        "for char in name_list:\n",
        "    print(char)\n",
        "\n",
        "# Print the first 3 letters\n",
        "print(\"\\nThe first 3 letters:\", name[:3])\n",
        "\n",
        "# Print the last 2 letters\n",
        "print(\"The last 2 letters:\", name[-2:])\n",
        "\n",
        "# Print the total number of letters using len()\n",
        "print(\"Total number of letters:\", len(name))\n"
      ],
      "metadata": {
        "colab": {
          "base_uri": "https://localhost:8080/"
        },
        "id": "dv-ksAa8hT4u",
        "outputId": "67f7602d-ed2c-440b-f74b-bb55a6175f07"
      },
      "execution_count": null,
      "outputs": [
        {
          "output_type": "stream",
          "name": "stdout",
          "text": [
            "Enter your name: abid\n",
            "\n",
            "Characters of your name:\n",
            "a\n",
            "b\n",
            "i\n",
            "d\n",
            "\n",
            "The first 3 letters: abi\n",
            "The last 2 letters: id\n",
            "Total number of letters: 4\n"
          ]
        }
      ]
    },
    {
      "cell_type": "markdown",
      "source": [
        "# 🔍 Sample Output (for Jahanzaib)\n",
        "J  \n",
        "a  \n",
        "h  \n",
        "a  \n",
        "n  \n",
        "z  \n",
        "a  \n",
        "i  \n",
        "b  \n",
        "\n",
        "First 3 letters: ['J', 'a', 'h']  \n",
        "Last 2 letters: ['i', 'b']  \n",
        "Total letters: 9  "
      ],
      "metadata": {
        "id": "UAxeQvrXhh1H"
      }
    },
    {
      "cell_type": "code",
      "source": [
        "name = \"Jahanzaib\"\n",
        "\n",
        "# Print each letter on a new line\n",
        "for letter in name:\n",
        "    print(letter)\n",
        "\n",
        "# Get parts of the name\n",
        "first_three = list(name[:3])\n",
        "last_two = list(name[-2:])\n",
        "total = len(name)\n",
        "\n",
        "# Print details\n",
        "print(\"\\nFirst 3 letters:\", first_three)\n",
        "print(\"Last 2 letters:\", last_two)\n",
        "print(\"Total letters:\", total)\n"
      ],
      "metadata": {
        "colab": {
          "base_uri": "https://localhost:8080/"
        },
        "id": "564WWaQekuF3",
        "outputId": "2cbfb51f-3640-4411-ee68-46a4019461b6"
      },
      "execution_count": null,
      "outputs": [
        {
          "output_type": "stream",
          "name": "stdout",
          "text": [
            "J\n",
            "a\n",
            "h\n",
            "a\n",
            "n\n",
            "z\n",
            "a\n",
            "i\n",
            "b\n",
            "\n",
            "First 3 letters: ['J', 'a', 'h']\n",
            "Last 2 letters: ['i', 'b']\n",
            "Total letters: 9\n"
          ]
        }
      ]
    },
    {
      "cell_type": "markdown",
      "source": [
        "Submitted By\n",
        "\n",
        "Abid Ali\n",
        "\n",
        "Roll nO: 256874\n",
        "\n",
        "abidali431992@gmail.com"
      ],
      "metadata": {
        "id": "uqLVsktamEYO"
      }
    },
    {
      "cell_type": "code",
      "source": [],
      "metadata": {
        "id": "ms14MOxXnxkI"
      },
      "execution_count": null,
      "outputs": []
    }
  ]
}